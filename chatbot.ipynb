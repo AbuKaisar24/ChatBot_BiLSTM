{
 "cells": [
  {
   "cell_type": "code",
   "execution_count": 1,
   "metadata": {},
   "outputs": [
    {
     "name": "stderr",
     "output_type": "stream",
     "text": [
      "d:\\chatbot_bilstm\\venv\\lib\\site-packages\\tensorflow\\python\\framework\\dtypes.py:523: FutureWarning: Passing (type, 1) or '1type' as a synonym of type is deprecated; in a future version of numpy, it will be understood as (type, (1,)) / '(1,)type'.\n",
      "  _np_qint8 = np.dtype([(\"qint8\", np.int8, 1)])\n",
      "d:\\chatbot_bilstm\\venv\\lib\\site-packages\\tensorflow\\python\\framework\\dtypes.py:524: FutureWarning: Passing (type, 1) or '1type' as a synonym of type is deprecated; in a future version of numpy, it will be understood as (type, (1,)) / '(1,)type'.\n",
      "  _np_quint8 = np.dtype([(\"quint8\", np.uint8, 1)])\n",
      "d:\\chatbot_bilstm\\venv\\lib\\site-packages\\tensorflow\\python\\framework\\dtypes.py:525: FutureWarning: Passing (type, 1) or '1type' as a synonym of type is deprecated; in a future version of numpy, it will be understood as (type, (1,)) / '(1,)type'.\n",
      "  _np_qint16 = np.dtype([(\"qint16\", np.int16, 1)])\n",
      "d:\\chatbot_bilstm\\venv\\lib\\site-packages\\tensorflow\\python\\framework\\dtypes.py:526: FutureWarning: Passing (type, 1) or '1type' as a synonym of type is deprecated; in a future version of numpy, it will be understood as (type, (1,)) / '(1,)type'.\n",
      "  _np_quint16 = np.dtype([(\"quint16\", np.uint16, 1)])\n",
      "d:\\chatbot_bilstm\\venv\\lib\\site-packages\\tensorflow\\python\\framework\\dtypes.py:527: FutureWarning: Passing (type, 1) or '1type' as a synonym of type is deprecated; in a future version of numpy, it will be understood as (type, (1,)) / '(1,)type'.\n",
      "  _np_qint32 = np.dtype([(\"qint32\", np.int32, 1)])\n",
      "d:\\chatbot_bilstm\\venv\\lib\\site-packages\\tensorflow\\python\\framework\\dtypes.py:532: FutureWarning: Passing (type, 1) or '1type' as a synonym of type is deprecated; in a future version of numpy, it will be understood as (type, (1,)) / '(1,)type'.\n",
      "  np_resource = np.dtype([(\"resource\", np.ubyte, 1)])\n"
     ]
    }
   ],
   "source": [
    "import pickle\n",
    "import tensorflow as tf\n",
    "import gensim\n",
    "from nltk.tokenize import TweetTokenizer\n",
    "import numpy as np"
   ]
  },
  {
   "cell_type": "code",
   "execution_count": 2,
   "metadata": {},
   "outputs": [
    {
     "name": "stdout",
     "output_type": "stream",
     "text": [
      "['Can we make this quick Roxanne Korrine and Andrew Barrett are having an incredibly horrendous public break up on the quad Again'\n",
      " 'Well I thought we d start with pronunciation if that s okay with you'\n",
      " 'Not the hacking and gagging and spitting part Please' ...\n",
      " 'Well lose it And why aren t you pushing the large sizes Didn t you get training about upsizing'\n",
      " 'But I feel weird it s so sleazy' 'It s not optional']\n",
      "Total number of lines :  50298\n"
     ]
    }
   ],
   "source": [
    "tf.reset_default_graph()\n",
    "# loading the data\n",
    "with open(\"data.pickle\", \"rb\") as f:\n",
    "    quests, ans = pickle.load(f) \n",
    "print(\"Total number of lines : \", len(np.append(quests, ans)))"
   ]
  },
  {
   "cell_type": "code",
   "execution_count": 3,
   "metadata": {},
   "outputs": [],
   "source": [
    "def read_input(input_lines):\n",
    "    for i, line in enumerate (input_lines): \n",
    "        # do some pre-processing and return a list of words for each review text\n",
    "        yield gensim.utils.simple_preprocess (line)\n"
   ]
  },
  {
   "cell_type": "code",
   "execution_count": 4,
   "metadata": {},
   "outputs": [
    {
     "name": "stdout",
     "output_type": "stream",
     "text": [
      "Done reading data file\n"
     ]
    }
   ],
   "source": [
    "# read the tokenized reviews into a list\n",
    "# each review item becomes a serries of words\n",
    "# so this becomes a list of lists\n",
    "documents = list (read_input (np.append(quests, ans)))\n",
    "print(\"Done reading data file\")"
   ]
  },
  {
   "cell_type": "code",
   "execution_count": 6,
   "metadata": {},
   "outputs": [
    {
     "data": {
      "text/plain": [
       "(3612643, 4939460)"
      ]
     },
     "execution_count": 6,
     "metadata": {},
     "output_type": "execute_result"
    }
   ],
   "source": [
    "# Training Word2Vec model on our dataset\n",
    "embedding_model = gensim.models.Word2Vec (documents, size=100, window=10, min_count=2, workers=10)\n",
    "embedding_model.train(documents,total_examples=len(documents),epochs=10)"
   ]
  },
  {
   "cell_type": "code",
   "execution_count": 8,
   "metadata": {},
   "outputs": [
    {
     "name": "stdout",
     "output_type": "stream",
     "text": [
      "number of words in our vocabulary :  12083\n"
     ]
    }
   ],
   "source": [
    "print(\"number of words in our vocabulary : \", len(embedding_model.wv.vocab))"
   ]
  },
  {
   "cell_type": "code",
   "execution_count": 9,
   "metadata": {},
   "outputs": [],
   "source": [
    "vocabulary = list(embedding_model.wv.vocab.keys())"
   ]
  },
  {
   "cell_type": "code",
   "execution_count": 10,
   "metadata": {},
   "outputs": [],
   "source": [
    "# Add padding as the 0th index of the vocabulary\n",
    "vocabulary = ['<pad>'] + vocabulary"
   ]
  },
  {
   "cell_type": "code",
   "execution_count": 11,
   "metadata": {},
   "outputs": [],
   "source": [
    "vector_dimension = 100"
   ]
  },
  {
   "cell_type": "code",
   "execution_count": 12,
   "metadata": {},
   "outputs": [],
   "source": [
    "\"\"\"\n",
    "Get vectorized representation of a words in a sentence using the custom embedding\n",
    "\"\"\"\n",
    "def get_vec_representation_of_text_from_custom_embedding(input_text, embedding_model, word_limit, vector_dimension, vocabulary):\n",
    "    embedding_matrix = np.zeros([word_limit, vector_dimension])\n",
    "    for index, token in enumerate(input_text):\n",
    "        if token in vocabulary:\n",
    "            embedding_vector = embedding_model.wv[token]\n",
    "            embedding_matrix[index] = embedding_vector[:vector_dimension]\n",
    "        else:\n",
    "            embedding_matrix[index] = np.zeros(vector_dimension)\n",
    "                \n",
    "    return embedding_matrix\n",
    "\n",
    "\n",
    "word_limit = 20\n",
    "dimension = 100\n",
    "trainX_question = []\n",
    "Y_answers = []\n"
   ]
  },
  {
   "cell_type": "code",
   "execution_count": 13,
   "metadata": {},
   "outputs": [],
   "source": [
    "trainx_quests = list(read_input(np.array(quests)))\n",
    "\n",
    "trainy_ans = list(read_input(np.array(ans)))\n",
    "\n",
    "for sentence in trainx_quests:\n",
    "    trainX_question.append(get_vec_representation_of_text_from_custom_embedding(sentence[:word_limit], embedding_model, word_limit=word_limit,\n",
    "                                                        vector_dimension=dimension, vocabulary=vocabulary))\n",
    "    \n",
    "for sentence in trainy_ans:\n",
    "    Y_answers.append(get_vec_representation_of_text_from_custom_embedding(sentence[:word_limit], embedding_model, word_limit=word_limit,\n",
    "                                                        vector_dimension=dimension, vocabulary=vocabulary))"
   ]
  },
  {
   "cell_type": "code",
   "execution_count": 14,
   "metadata": {},
   "outputs": [
    {
     "name": "stdout",
     "output_type": "stream",
     "text": [
      "(25149, 20, 100)\n",
      "(25149, 20, 100)\n"
     ]
    }
   ],
   "source": [
    "trainX_question = np.array(trainX_question)\n",
    "Y_answers = np.array(Y_answers)\n",
    "\n",
    "print(trainX_question.shape)\n",
    "print(Y_answers.shape)"
   ]
  },
  {
   "cell_type": "code",
   "execution_count": 15,
   "metadata": {},
   "outputs": [
    {
     "name": "stdout",
     "output_type": "stream",
     "text": [
      "25149\n",
      "25149\n"
     ]
    }
   ],
   "source": [
    "# get decoders --> answers sequences mapped from the vocabulary\n",
    "def get_decoder_idx_sequences(answer, vocabulary, word_limit):\n",
    "    sequence = np.zeros([word_limit])\n",
    "    for i, token in enumerate(answer):\n",
    "        if token in vocabulary:\n",
    "            sequence[i] = vocabulary.index(token)\n",
    "        else:\n",
    "            sequence[i] = 0\n",
    "    return sequence\n",
    "\n",
    "decoder_idx_seq = []\n",
    "for sentence in trainy_ans:\n",
    "    decoder_idx_seq.append(get_decoder_idx_sequences(sentence[:word_limit], vocabulary, word_limit))"
   ]
  },
  {
   "cell_type": "code",
   "execution_count": 16,
   "metadata": {},
   "outputs": [
    {
     "data": {
      "text/plain": [
       "(25149, 20)"
      ]
     },
     "execution_count": 16,
     "metadata": {},
     "output_type": "execute_result"
    }
   ],
   "source": [
    "decoder_idx_seq = np.array(decoder_idx_seq)\n",
    "decoder_idx_seq.shape"
   ]
  },
  {
   "cell_type": "code",
   "execution_count": 17,
   "metadata": {},
   "outputs": [
    {
     "name": "stdout",
     "output_type": "stream",
     "text": [
      "(25149, 20, 12084)\n"
     ]
    }
   ],
   "source": [
    "# One hot encode the decoder values\n",
    "target_decoder = tf.keras.utils.to_categorical(decoder_idx_seq, len(vocabulary))\n",
    "print(target_decoder.shape)"
   ]
  },
  {
   "cell_type": "code",
   "execution_count": 18,
   "metadata": {},
   "outputs": [
    {
     "name": "stdout",
     "output_type": "stream",
     "text": [
      "__________________________________________________________________________________________________\n",
      "Layer (type)                    Output Shape         Param #     Connected to                     \n",
      "==================================================================================================\n",
      "input_1 (InputLayer)            (None, 20, 100)      0                                            \n",
      "__________________________________________________________________________________________________\n",
      "input_2 (InputLayer)            (None, 20, 100)      0                                            \n",
      "__________________________________________________________________________________________________\n",
      "lstm (LSTM)                     [(None, 100), (None, 80400       input_1[0][0]                    \n",
      "__________________________________________________________________________________________________\n",
      "lstm_1 (LSTM)                   [(None, 100), (None, 80400       input_1[0][0]                    \n",
      "__________________________________________________________________________________________________\n",
      "lstm_2 (LSTM)                   [(None, 20, 100), (N 80400       input_2[0][0]                    \n",
      "                                                                 lstm[0][1]                       \n",
      "                                                                 lstm[0][2]                       \n",
      "__________________________________________________________________________________________________\n",
      "lstm_3 (LSTM)                   [(None, 20, 100), (N 80400       input_2[0][0]                    \n",
      "                                                                 lstm_1[0][1]                     \n",
      "                                                                 lstm_1[0][2]                     \n",
      "__________________________________________________________________________________________________\n",
      "concatenate (Concatenate)       (None, 20, 200)      0           lstm_2[0][0]                     \n",
      "                                                                 lstm_3[0][0]                     \n",
      "__________________________________________________________________________________________________\n",
      "dense (Dense)                   (None, 20, 12084)    2428884     concatenate[0][0]                \n",
      "==================================================================================================\n",
      "Total params: 2,750,484\n",
      "Trainable params: 2,750,484\n",
      "Non-trainable params: 0\n",
      "__________________________________________________________________________________________________\n"
     ]
    }
   ],
   "source": [
    "from tensorflow.keras.layers import Input\n",
    "from tensorflow.keras.models import Model\n",
    "num_of_epochs = 100\n",
    "tf.keras.backend.clear_session()\n",
    "encoder_input_begin = Input(shape=(trainX_question.shape[1], trainX_question.shape[2]))\n",
    "decoder_input_begin = Input(shape=(Y_answers.shape[1], Y_answers.shape[2]))\n",
    "\n",
    "#ENCODER\n",
    "# encoder_embedding = tf.keras.layers.Embedding( num_encoder_tokens, maxlen , mask_zero=True) (encoder_input_begin)\n",
    "\n",
    "encoder_forward_activation, state_h_f , state_c_f = tf.keras.layers.LSTM(dimension, return_state=True, activation='relu')(encoder_input_begin)\n",
    "\n",
    "encoder_forward_states = [state_h_f , state_c_f]\n",
    "    \n",
    "encoder_backward_activation, state_h_b , state_c_b = tf.keras.layers.LSTM(dimension, return_state=True, go_backwards=True, activation='relu')(encoder_input_begin)\n",
    "\n",
    "encoder_backward_states = [state_h_b , state_c_b]\n",
    "\n",
    "\n",
    "# DECODER\n",
    "# decoder_embedding = tf.keras.layers.Embedding( num_decoder_tokens, maxlen , mask_zero=True) (decoder_input_begin)\n",
    "\n",
    "decoder_forward_activation = tf.keras.layers.LSTM(dimension, return_state=True, return_sequences=True, activation='relu')\n",
    "    \n",
    "decoder_backward_activation = tf.keras.layers.LSTM(dimension, return_state=True, go_backwards=True, return_sequences=True, activation='relu')\n",
    "\n",
    "decoder_f_outputs, _ , _ = decoder_forward_activation ( decoder_input_begin , initial_state=encoder_forward_states)\n",
    "\n",
    "decoder_b_outputs, _ , _ = decoder_backward_activation ( decoder_input_begin , initial_state=encoder_backward_states)\n",
    "\n",
    "# merges decoder Bi-LSTM outputs\n",
    "merged_outputs = tf.keras.layers.concatenate([decoder_f_outputs, decoder_b_outputs])\n",
    "\n",
    "# Dense layer \n",
    "# output = tf.keras.layers.TimeDistributed(tf.keras.layers.Dense(embedding_vector_dim, activation='softmax'))(merged_outputs)\n",
    "decoder_dense = tf.keras.layers.Dense( len(vocabulary) , activation=tf.keras.activations.softmax ) \n",
    "output = decoder_dense ( merged_outputs )\n",
    "\n",
    "model = tf.keras.models.Model(inputs=[encoder_input_begin, decoder_input_begin], outputs=output )\n",
    "model.compile(optimizer=tf.keras.optimizers.RMSprop(), loss='categorical_crossentropy', metrics=['accuracy'])\n",
    "\n",
    "model.summary()"
   ]
  },
  {
   "cell_type": "code",
   "execution_count": 19,
   "metadata": {},
   "outputs": [
    {
     "name": "stdout",
     "output_type": "stream",
     "text": [
      "Epoch 1/7\n",
      "25149/25149 [==============================] - 118s 5ms/step - loss: 4.8574 - acc: 0.5813\n",
      "Epoch 2/7\n",
      "25149/25149 [==============================] - 124s 5ms/step - loss: 1.6557 - acc: 0.8225\n",
      "Epoch 3/7\n",
      "25149/25149 [==============================] - 99s 4ms/step - loss: 0.8684 - acc: 0.9036\n",
      "Epoch 4/7\n",
      "25149/25149 [==============================] - 131s 5ms/step - loss: 0.6313 - acc: 0.9283\n",
      "Epoch 5/7\n",
      "25149/25149 [==============================] - 116s 5ms/step - loss: 0.4643 - acc: 0.9440\n",
      "Epoch 6/7\n",
      "25149/25149 [==============================] - 130s 5ms/step - loss: 0.3278 - acc: 0.9548\n",
      "Epoch 7/7\n",
      "25149/25149 [==============================] - 127s 5ms/step - loss: 0.2224 - acc: 0.9649\n"
     ]
    }
   ],
   "source": [
    "# target_decoder, trainX_question, Y_answers\n",
    "\n",
    "H = model.fit([trainX_question, Y_answers], target_decoder,\n",
    "              epochs=7, batch_size=256)"
   ]
  },
  {
   "cell_type": "code",
   "execution_count": 20,
   "metadata": {},
   "outputs": [
    {
     "name": "stdout",
     "output_type": "stream",
     "text": [
      "WARNING:tensorflow:Layer lstm_2 was passed non-serializable keyword arguments: {'initial_state': [<tf.Tensor 'lstm/while/Exit_3:0' shape=(?, 100) dtype=float32>, <tf.Tensor 'lstm/while/Exit_4:0' shape=(?, 100) dtype=float32>]}. They will not be included in the serialized model (and thus will be missing at deserialization time).\n",
      "WARNING:tensorflow:Layer lstm_3 was passed non-serializable keyword arguments: {'initial_state': [<tf.Tensor 'lstm_1/while/Exit_3:0' shape=(?, 100) dtype=float32>, <tf.Tensor 'lstm_1/while/Exit_4:0' shape=(?, 100) dtype=float32>]}. They will not be included in the serialized model (and thus will be missing at deserialization time).\n"
     ]
    }
   ],
   "source": [
    "model.save(\"model.h5\")"
   ]
  },
  {
   "cell_type": "code",
   "execution_count": 21,
   "metadata": {},
   "outputs": [],
   "source": [
    "# uncomment when you want to load the model saved\n",
    "# model = tf.keras.models.load_model('./model.h5')"
   ]
  },
  {
   "cell_type": "code",
   "execution_count": null,
   "metadata": {},
   "outputs": [
    {
     "name": "stdin",
     "output_type": "stream",
     "text": [
      "User:  how are you\n"
     ]
    },
    {
     "name": "stdout",
     "output_type": "stream",
     "text": [
      "Bot  : \n",
      "well thought we start with if that okay with you "
     ]
    },
    {
     "name": "stdin",
     "output_type": "stream",
     "text": [
      "User:  say something\n"
     ]
    },
    {
     "name": "stdout",
     "output_type": "stream",
     "text": [
      "Bot  : \n",
      "well thought we start with if that okay with you "
     ]
    }
   ],
   "source": [
    "# Start chatting\n",
    "while True: \n",
    "    user_input = None\n",
    "    X_inp = []\n",
    "    user_input = input('User: ')\n",
    "    user_input = list(read_input([user_input]))\n",
    "    X_inp = [get_vec_representation_of_text_from_custom_embedding(user_input[:word_limit], embedding_model, word_limit=word_limit,\n",
    "                                                            vector_dimension=dimension, vocabulary=vocabulary)]\n",
    "    X_inp = np.array(X_inp)\n",
    "    #     print(X_inp.shape)\n",
    "    predictions = model.predict([X_inp, Y_answers])\n",
    "    #     print(predictions.shape)\n",
    "    predicted_words = np.argmax(predictions, axis=2)[0]\n",
    "    #     predicted_words\n",
    "    print(\"Bot  : \")\n",
    "    for word_idx in predicted_words:\n",
    "        if word_idx != 0:\n",
    "            print(vocabulary[word_idx], end=' ')"
   ]
  },
  {
   "cell_type": "code",
   "execution_count": null,
   "metadata": {},
   "outputs": [],
   "source": []
  },
  {
   "cell_type": "code",
   "execution_count": null,
   "metadata": {},
   "outputs": [],
   "source": []
  }
 ],
 "metadata": {
  "kernelspec": {
   "display_name": "Python 3",
   "language": "python",
   "name": "python3"
  },
  "language_info": {
   "codemirror_mode": {
    "name": "ipython",
    "version": 3
   },
   "file_extension": ".py",
   "mimetype": "text/x-python",
   "name": "python",
   "nbconvert_exporter": "python",
   "pygments_lexer": "ipython3",
   "version": "3.6.7"
  },
  "pycharm": {
   "stem_cell": {
    "cell_type": "raw",
    "metadata": {
     "collapsed": false
    },
    "source": []
   }
  }
 },
 "nbformat": 4,
 "nbformat_minor": 4
}
