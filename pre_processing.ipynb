{
 "cells": [
  {
   "cell_type": "code",
   "execution_count": 60,
   "metadata": {},
   "outputs": [],
   "source": [
    "import config\n",
    "import pandas as pd\n",
    "import numpy as np\n",
    "import re\n",
    "from multiprocessing import cpu_count, Pool"
   ]
  },
  {
   "cell_type": "code",
   "execution_count": 61,
   "metadata": {},
   "outputs": [],
   "source": [
    "# Load movie conversations and extract the series of utterances\n",
    "conversations_DF = pd.read_csv(config.movie_conversations_filename,  sep='\\+\\+\\+\\$\\+\\+\\+', header=None, engine='python', mangle_dupe_cols=True, verbose=True, names=['characterID_1', 'characterID_2', 'movieID', 'listofutterances'])\n",
    "conversations_DF['listofutterances'] = conversations_DF['listofutterances'].apply(lambda x: x.replace(']','').replace('[','').replace(' ', '').replace(\"'\", \"\").replace('\"',''))"
   ]
  },
  {
   "cell_type": "code",
   "execution_count": 62,
   "metadata": {},
   "outputs": [
    {
     "name": "stdout",
     "output_type": "stream",
     "text": [
      "Filled 267 NA values in column text\n"
     ]
    }
   ],
   "source": [
    "# Load movie lines into a dataframe and perform some preprocessing on the textual data\n",
    "movie_lines_DF = pd.read_csv(config.movie_lines_filename,  sep='\\+\\+\\+\\$\\+\\+\\+', header=None, engine='python', mangle_dupe_cols=True, verbose=True, names=['lineID', 'characterID', 'movieID', 'charactername', 'text'])\n",
    "movie_lines_DF['lineID'] = movie_lines_DF['lineID'].apply(lambda x: x.strip())\n",
    "movie_lines_DF['text'] = movie_lines_DF['text'].apply(lambda x: re.sub('([\\w]+)([,;.?!#&-\\'\\\"-]+)([\\w]+)?', r'\\1 \\2 \\3', str(x)))\n",
    "movie_lines_DF['text'] = movie_lines_DF['text'].apply(lambda x: re.sub('[^A-Za-z0-9 ]', '', str(x)))\n",
    "movie_lines_DF['text'] = movie_lines_DF['text'].apply(lambda x: str(x).strip())\n",
    "movie_lines_DF['text'] = movie_lines_DF['text'].apply(lambda x: re.sub('  +', ' ', str(x)))"
   ]
  },
  {
   "cell_type": "code",
   "execution_count": 66,
   "metadata": {},
   "outputs": [],
   "source": [
    "# Form question answer pairs based on list of utterances from movies lines dataframe \n",
    "question_arr = []\n",
    "answers_arr = []\n",
    "for idx, row in conversations_DF.iterrows():\n",
    "    if idx == 10000:\n",
    "        break\n",
    "    else:    \n",
    "        sequence = row[-1].split(\",\")\n",
    "        for question_line, answer_line in zip(sequence[:], sequence[1:]):\n",
    "            question_arr.append(movie_lines_DF.loc[movie_lines_DF['lineID'] == question_line]['text'].values[0])\n",
    "            answers_arr.append(movie_lines_DF.loc[movie_lines_DF['lineID'] == answer_line]['text'].values[0])        "
   ]
  },
  {
   "cell_type": "code",
   "execution_count": 67,
   "metadata": {},
   "outputs": [
    {
     "name": "stdout",
     "output_type": "stream",
     "text": [
      "(25149,)\n",
      "(25149,)\n"
     ]
    }
   ],
   "source": [
    "question_arr = np.array(question_arr)\n",
    "answers_arr = np.array(answers_arr)\n",
    "print(question_arr.shape)\n",
    "print(answers_arr.shape)"
   ]
  },
  {
   "cell_type": "code",
   "execution_count": 68,
   "metadata": {},
   "outputs": [],
   "source": [
    "# Load the dataset into a pickle file\n",
    "import pickle\n",
    "\n",
    "with open(\"data.pickle\", \"wb\") as f:\n",
    "    pickle.dump((question_arr,answers_arr), f)"
   ]
  },
  {
   "cell_type": "code",
   "execution_count": 69,
   "metadata": {},
   "outputs": [
    {
     "name": "stdout",
     "output_type": "stream",
     "text": [
      "['Can we make this quick Roxanne Korrine and Andrew Barrett are having an incredibly horrendous public break up on the quad Again'\n",
      " 'Well I thought we d start with pronunciation if that s okay with you'\n",
      " 'Not the hacking and gagging and spitting part Please' ...\n",
      " 'Well lose it And why aren t you pushing the large sizes Didn t you get training about upsizing'\n",
      " 'But I feel weird it s so sleazy' 'It s not optional']\n"
     ]
    }
   ],
   "source": [
    "# loading the data for display\n",
    "with open(\"data.pickle\", \"rb\") as f:\n",
    "    quests, ans = pickle.load(f) \n",
    "    print(quests)"
   ]
  },
  {
   "cell_type": "code",
   "execution_count": null,
   "metadata": {},
   "outputs": [],
   "source": []
  }
 ],
 "metadata": {
  "kernelspec": {
   "display_name": "Python 3",
   "language": "python",
   "name": "python3"
  },
  "language_info": {
   "codemirror_mode": {
    "name": "ipython",
    "version": 3
   },
   "file_extension": ".py",
   "mimetype": "text/x-python",
   "name": "python",
   "nbconvert_exporter": "python",
   "pygments_lexer": "ipython3",
   "version": "3.6.7"
  }
 },
 "nbformat": 4,
 "nbformat_minor": 4
}
